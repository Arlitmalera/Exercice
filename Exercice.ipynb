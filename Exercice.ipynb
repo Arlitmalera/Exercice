{
 "cells": [
  {
   "cell_type": "markdown",
   "id": "d2687b5f",
   "metadata": {},
   "source": [
    "# Exo1"
   ]
  },
  {
   "cell_type": "code",
   "execution_count": 2,
   "id": "7fa924dc",
   "metadata": {},
   "outputs": [],
   "source": [
    "str1 =\"Malera\"\n",
    "str2 =\"Arlit\""
   ]
  },
  {
   "cell_type": "code",
   "execution_count": 6,
   "id": "62ae34a2",
   "metadata": {},
   "outputs": [
    {
     "name": "stdout",
     "output_type": "stream",
     "text": [
      " Arlit Malera\n"
     ]
    }
   ],
   "source": [
    "print(\" Arlit Malera\")"
   ]
  },
  {
   "cell_type": "markdown",
   "id": "0fd1be95",
   "metadata": {},
   "source": [
    "# Exo2"
   ]
  },
  {
   "cell_type": "code",
   "execution_count": 30,
   "id": "3db92b14",
   "metadata": {},
   "outputs": [],
   "source": [
    "n = 5\n",
    "nn = 55\n",
    "nnn = 555"
   ]
  },
  {
   "cell_type": "code",
   "execution_count": 31,
   "id": "ab955b50",
   "metadata": {},
   "outputs": [
    {
     "data": {
      "text/plain": [
       "615"
      ]
     },
     "execution_count": 31,
     "metadata": {},
     "output_type": "execute_result"
    }
   ],
   "source": [
    "n+nn+nnn"
   ]
  },
  {
   "cell_type": "code",
   "execution_count": 35,
   "id": "ee75cc63",
   "metadata": {},
   "outputs": [
    {
     "name": "stdout",
     "output_type": "stream",
     "text": [
      "saisir le nombre3\n",
      "impair\n"
     ]
    }
   ],
   "source": [
    " x = int(input(\"saisir le nombre: \"))\n",
    " if x==2:\n",
    "  print(\"pair\")\n",
    " elif x==3:\n",
    "   print(\"impair\")     "
   ]
  },
  {
   "cell_type": "code",
   "execution_count": 40,
   "id": "128b6dbf",
   "metadata": {},
   "outputs": [
    {
     "name": "stdout",
     "output_type": "stream",
     "text": [
      "5\n",
      "6\n"
     ]
    }
   ],
   "source": [
    "numbers =[2000,3200]\n",
    "for numbers in range(5,7):\n",
    "    print(numbers)\n",
    "    "
   ]
  },
  {
   "cell_type": "code",
   "execution_count": 47,
   "id": "4936e6c6",
   "metadata": {},
   "outputs": [
    {
     "name": "stdout",
     "output_type": "stream",
     "text": [
      "saisir la valeur de n :8\n",
      "factorielle de n est : 64\n"
     ]
    }
   ],
   "source": [
    "facto =8\n",
    "n = int(input(\"saisir la valeur de n :\"))\n",
    "for i in range(8,n+1):\n",
    "    facto = facto * i\n",
    "    print(\"factorielle de n est :\", facto)"
   ]
  },
  {
   "cell_type": "code",
   "execution_count": 48,
   "id": "94382fd3",
   "metadata": {},
   "outputs": [],
   "source": [
    "my_string=\"bonjour l'equipe\""
   ]
  },
  {
   "cell_type": "code",
   "execution_count": 56,
   "id": "97c1106a",
   "metadata": {},
   "outputs": [
    {
     "name": "stdout",
     "output_type": "stream",
     "text": [
      "hlota\n"
     ]
    }
   ],
   "source": [
    "print(\"hlota\")"
   ]
  },
  {
   "cell_type": "code",
   "execution_count": 64,
   "id": "c6047537",
   "metadata": {},
   "outputs": [
    {
     "ename": "IndentationError",
     "evalue": "unexpected indent (2905051581.py, line 2)",
     "output_type": "error",
     "traceback": [
      "\u001b[1;36m  File \u001b[1;32m\"C:\\Users\\MALERA ARLY\\AppData\\Local\\Temp\\ipykernel_4724\\2905051581.py\"\u001b[1;36m, line \u001b[1;32m2\u001b[0m\n\u001b[1;33m    if x==500:\u001b[0m\n\u001b[1;37m    ^\u001b[0m\n\u001b[1;31mIndentationError\u001b[0m\u001b[1;31m:\u001b[0m unexpected indent\n"
     ]
    }
   ],
   "source": [
    " x = int(input(\"saisir le nombre\"))\n",
    "    if x==500:\n",
    "    print(\"Remise de 50%\")\n",
    "    elif x{200,500}:\n",
    "        print(\"Remise de 30% \")"
   ]
  }
 ],
 "metadata": {
  "kernelspec": {
   "display_name": "Python 3 (ipykernel)",
   "language": "python",
   "name": "python3"
  },
  "language_info": {
   "codemirror_mode": {
    "name": "ipython",
    "version": 3
   },
   "file_extension": ".py",
   "mimetype": "text/x-python",
   "name": "python",
   "nbconvert_exporter": "python",
   "pygments_lexer": "ipython3",
   "version": "3.9.13"
  }
 },
 "nbformat": 4,
 "nbformat_minor": 5
}
